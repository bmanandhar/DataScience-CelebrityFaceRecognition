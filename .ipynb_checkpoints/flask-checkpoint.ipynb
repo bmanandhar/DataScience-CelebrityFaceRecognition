{
 "cells": [
  {
   "cell_type": "code",
   "execution_count": null,
   "id": "e0224b90",
   "metadata": {},
   "outputs": [],
   "source": [
    "from flask imort Flask, request, jsonify\n",
    "app = Flast(__name__)\n",
    "\n",
    "@app.route()\n",
    "def hello():\n",
    "    return 'Hello, World!'\n",
    "\n",
    "if __name__=='__main__':\n",
    "    app.run(port=5000)\n",
    "\n",
    "    "
   ]
  }
 ],
 "metadata": {
  "kernelspec": {
   "display_name": "Python 3",
   "language": "python",
   "name": "python3"
  },
  "language_info": {
   "codemirror_mode": {
    "name": "ipython",
    "version": 3
   },
   "file_extension": ".py",
   "mimetype": "text/x-python",
   "name": "python",
   "nbconvert_exporter": "python",
   "pygments_lexer": "ipython3",
   "version": "3.8.8"
  }
 },
 "nbformat": 4,
 "nbformat_minor": 5
}
