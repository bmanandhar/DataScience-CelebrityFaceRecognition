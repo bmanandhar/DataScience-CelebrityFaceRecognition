{
 "cells": [
  {
   "cell_type": "code",
   "execution_count": 1,
   "id": "43641365",
   "metadata": {},
   "outputs": [
    {
     "name": "stdout",
     "output_type": "stream",
     "text": [
      "       area      food\n",
      "0  new-york     pizza\n",
      "1   columbo     crabs\n",
      "2    mumbai  vada-paw\n"
     ]
    }
   ],
   "source": [
    "# Example 1 : Using the concat() method.\n",
    "\n",
    "# importing the module\n",
    "import pandas as pd\n",
    "  \n",
    "# creating 2 DataFrames\n",
    "location = pd.DataFrame({'area': ['new-york', 'columbo', 'mumbai']})\n",
    "food = pd.DataFrame({'food': ['pizza', 'crabs', 'vada-paw']})\n",
    "  \n",
    "# concatenating the DataFrames\n",
    "det = pd.concat([location, food], join = 'outer', axis = 1)\n",
    "  \n",
    "# displaying the DataFrame\n",
    "print(det)"
   ]
  },
  {
   "cell_type": "code",
   "execution_count": null,
   "id": "0c5064f2",
   "metadata": {},
   "outputs": [],
   "source": []
  }
 ],
 "metadata": {
  "kernelspec": {
   "display_name": "Python 3",
   "language": "python",
   "name": "python3"
  },
  "language_info": {
   "codemirror_mode": {
    "name": "ipython",
    "version": 3
   },
   "file_extension": ".py",
   "mimetype": "text/x-python",
   "name": "python",
   "nbconvert_exporter": "python",
   "pygments_lexer": "ipython3",
   "version": "3.8.8"
  }
 },
 "nbformat": 4,
 "nbformat_minor": 5
}
