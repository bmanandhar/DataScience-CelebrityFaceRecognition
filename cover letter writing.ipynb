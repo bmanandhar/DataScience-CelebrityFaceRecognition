{
 "cells": [
  {
   "cell_type": "markdown",
   "id": "5a0bb08b",
   "metadata": {},
   "source": [
    "<p>Check out <a href=\"https://employmentboost.com/articles/5-easy-steps-write-cover-letter-impress-hiring-manager/\" target=\"_blank\" rel=\"noopener noreferrer\">'Employment Boost' for cover letter</a>.</p>\n",
    "\n",
    "Whether you approach writing a cover letter in a generic, individualized, or creative manner, there are a few core rules that you will want to follow to ensure maximum success. Here are a five easy steps anyone can follow to create a dynamic, distinct cover letter that will give you the best chance of impressing a hiring manager.\n",
    "\n",
    "Step 1: Use the top of the cover letter for company details\n",
    "Include specifics about the company at the top of your cover letter. For a physical copy or attached document, ensure the address, company name, and name and title of the hiring manger, or whoever is being addressed, is included. If you’re unsure of who to address, simply put “Hiring Manager”. For email, begin with “Dear Hiring Manager”.\n",
    "\n",
    "Step 2: Introduce yourself with a strong first paragraph\n",
    "Begin your cover letter with a sentence containing how your amount of experience will help you succeed at the specific job position and company being applied to. Follow this with a sentence highlighting your skills that are applicable to the position. Try to use the same phrasing as the job description.\n",
    "\n",
    "Step 3: Be specific about your accomplishments\n",
    "Next, provide specific accomplishments and examples from your employment history to emphasize the experience you’ve acquired that aligns with the position requirements and description. If you copy and paste examples from your resume, make sure to reword.\n",
    "\n",
    "Step 4: Show that you’ve done research on the company\n",
    "Finish with a short paragraph asserting your alignment with the company’s vision or mission and stating your enthusiasm for the opportunity to be a part of their organization. Continue by expressing that you look forward to discussing your qualifications with them and that they should contact you with questions or additional information requests.\n",
    "\n",
    "Step 5: Make sure your attention to detail is excellent\n",
    "Check formatting and spelling. Errors on cover letters are just as damaging as resume errors. Sign with your first and last name, followed up by “Resume Enclosed” or “Resume Attached.” A header is recommended for physical cover letter copies."
   ]
  },
  {
   "cell_type": "code",
   "execution_count": null,
   "id": "e4ee5dff",
   "metadata": {},
   "outputs": [],
   "source": []
  }
 ],
 "metadata": {
  "kernelspec": {
   "display_name": "Python 3",
   "language": "python",
   "name": "python3"
  },
  "language_info": {
   "codemirror_mode": {
    "name": "ipython",
    "version": 3
   },
   "file_extension": ".py",
   "mimetype": "text/x-python",
   "name": "python",
   "nbconvert_exporter": "python",
   "pygments_lexer": "ipython3",
   "version": "3.8.8"
  }
 },
 "nbformat": 4,
 "nbformat_minor": 5
}
